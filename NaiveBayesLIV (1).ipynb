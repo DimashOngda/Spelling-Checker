{
  "nbformat": 4,
  "nbformat_minor": 0,
  "metadata": {
    "colab": {
      "name": "NaiveBayesLIV.ipynb",
      "version": "0.3.2",
      "provenance": []
    },
    "language_info": {
      "codemirror_mode": {
        "name": "ipython",
        "version": 3
      },
      "file_extension": ".py",
      "mimetype": "text/x-python",
      "name": "python",
      "nbconvert_exporter": "python",
      "pygments_lexer": "ipython3",
      "version": "3.6.3"
    },
    "kernelspec": {
      "display_name": "Python 3",
      "language": "python",
      "name": "python3"
    }
  },
  "cells": [
    {
      "cell_type": "code",
      "metadata": {
        "id": "y520qh_bg3jN",
        "colab_type": "code",
        "outputId": "81ce7ae6-62e1-4d58-88d7-fb9866474991",
        "colab": {
          "base_uri": "https://localhost:8080/",
          "height": 122
        }
      },
      "source": [
        "from google.colab import drive\n",
        "drive.mount('/content/drive/')"
      ],
      "execution_count": 0,
      "outputs": [
        {
          "output_type": "stream",
          "text": [
            "Go to this URL in a browser: https://accounts.google.com/o/oauth2/auth?client_id=947318989803-6bn6qk8qdgf4n4g3pfee6491hc0brc4i.apps.googleusercontent.com&redirect_uri=urn%3Aietf%3Awg%3Aoauth%3A2.0%3Aoob&scope=email%20https%3A%2F%2Fwww.googleapis.com%2Fauth%2Fdocs.test%20https%3A%2F%2Fwww.googleapis.com%2Fauth%2Fdrive%20https%3A%2F%2Fwww.googleapis.com%2Fauth%2Fdrive.photos.readonly%20https%3A%2F%2Fwww.googleapis.com%2Fauth%2Fpeopleapi.readonly&response_type=code\n",
            "\n",
            "Enter your authorization code:\n",
            "··········\n",
            "Mounted at /content/drive/\n"
          ],
          "name": "stdout"
        }
      ]
    },
    {
      "cell_type": "code",
      "metadata": {
        "id": "JnUQxNWBiWka",
        "colab_type": "code",
        "colab": {}
      },
      "source": [
        "def read_text(data_path, list_of_books):\n",
        "    text = ''\n",
        "    for book in list_of_books:\n",
        "        file_path = os.path.join(data_path, book)\n",
        "        strings = open(file_path).read()\n",
        "        text += strings + ' '\n",
        "        text = text.lower()\n",
        "    return text"
      ],
      "execution_count": 0,
      "outputs": []
    },
    {
      "cell_type": "code",
      "metadata": {
        "id": "LdoWE_8Eknow",
        "colab_type": "code",
        "outputId": "cc933d52-041e-4512-87d9-696b415b63a6",
        "colab": {
          "base_uri": "https://localhost:8080/",
          "height": 68
        }
      },
      "source": [
        "data_path = '/content/drive/My Drive/Colab Notebooks/kazakhBooks'\n",
        "train_books = ['txt1.txt' , 'txt2.txt' , 'txt3.txt', 'txt4.txt' , 'txt5.txt' , 'txt6.txt' ,  'txt7.txt' , 'txt8.txt' , 'txt9.txt']\n",
        "tx = read_text(data_path , train_books)\n",
        "text1 = len(tx.split(\" \"))\n",
        "print(text1 , 'KAZAKH VOLUME')\n",
        "data_path = '/content/drive/My Drive/Colab Notebooks/data'\n",
        "train_books = ['txt1.txt' , 'txt2.txt' , 'txt3.txt', 'txt4.txt' , 'txt5.txt']\n",
        "tx1 = read_text(data_path , train_books)\n",
        "text2 = len(tx1.split(\" \"))\n",
        "print(text2 , 'ENGLISH VOLUME')\n",
        "data_path = '/content/drive/My Drive/Colab Notebooks/RUSbooks'\n",
        "train_books = ['txt3.txt' , 'txt4.txt' , 'txt5.txt', 'txt6.txt' , 'txt7.txt','txt8.txt' , 'txt9.txt' , 'txt11.txt' , 'txt12.txt' , 'txt13.txt']\n",
        "tx2 = read_text(data_path , train_books)\n",
        "text3 = len(tx2.split(\" \"))\n",
        "print(text3 , 'RUSSIAN VOLUME')"
      ],
      "execution_count": 0,
      "outputs": [
        {
          "output_type": "stream",
          "text": [
            "213069 KAZAKH VOLUME\n",
            "908432 ENGLISH VOLUME\n",
            "346528 RUSSIAN VOLUME\n"
          ],
          "name": "stdout"
        }
      ]
    },
    {
      "cell_type": "code",
      "metadata": {
        "id": "DYTeZUQZghb1",
        "colab_type": "code",
        "outputId": "99e83857-4f99-4ce5-b881-a0728db2e8a4",
        "colab": {
          "base_uri": "https://localhost:8080/",
          "height": 34
        }
      },
      "source": [
        "import re\n",
        "import os\n",
        "from collections import Counter\n",
        "data_path = '/content/drive/My Drive/Colab Notebooks/kazakhBooks'\n",
        "train_books = ['tovar.txt' , 'txt1.txt' , 'txt2.txt' , 'txt3.txt', 'txt4.txt' , 'txt5.txt' , 'txt6.txt' ,  'txt7.txt' , 'txt8.txt' , 'txt9.txt']\n",
        "tx = read_text(data_path , train_books)\n",
        "def words(text): return re.findall(r'\\w+', text.lower())\n",
        "WORDS = Counter(words(tx))\n",
        "print(type(words(tx)))"
      ],
      "execution_count": 0,
      "outputs": [
        {
          "output_type": "stream",
          "text": [
            "<class 'list'>\n"
          ],
          "name": "stdout"
        }
      ]
    },
    {
      "cell_type": "code",
      "metadata": {
        "id": "d9ZsQ8VmkfG1",
        "colab_type": "code",
        "outputId": "472fe26a-f2eb-41f9-d500-28f86675dd2f",
        "colab": {
          "base_uri": "https://localhost:8080/",
          "height": 85
        }
      },
      "source": [
        "import re, math\n",
        "from collections import Counter\n",
        "\n",
        "WORD = re.compile(r'\\w+')\n",
        "def get_cosine(vec1, vec2):\n",
        "  intersection = set(vec1.keys()) & set(vec2.keys())\n",
        "  numerator = sum([vec1[x] * vec2[x] for x in intersection])\n",
        "\n",
        "  sum1 = sum([vec1[x]**2 for x in vec1.keys()])\n",
        "  sum2 = sum([vec2[x]**2 for x in vec2.keys()])\n",
        "  denominator = math.sqrt(sum1) * math.sqrt(sum2)\n",
        "\n",
        "  if not denominator:\n",
        "    return 0.0\n",
        "  else:\n",
        "    return float(numerator) / denominator\n",
        "\n",
        "def text_to_vector(text):\n",
        "     words = WORD.findall(text)\n",
        "     return Counter(words)\n",
        "\n",
        "text1 = 'This is a foo bar sentence .'\n",
        "text2 = 'This sentence is similar to a foo bar sentence .'\n",
        "\n",
        "vector1 = text_to_vector(text1)\n",
        "vector2 = text_to_vector(text2)\n",
        "\n",
        "cosine = get_cosine(vector1, vector2)\n",
        "print(vector1)\n",
        "print(vector2)\n",
        "print(WORD   )\n",
        "print('Cosine:', cosine)"
      ],
      "execution_count": 0,
      "outputs": [
        {
          "output_type": "stream",
          "text": [
            "Counter({'This': 1, 'is': 1, 'a': 1, 'foo': 1, 'bar': 1, 'sentence': 1})\n",
            "Counter({'sentence': 2, 'This': 1, 'is': 1, 'similar': 1, 'to': 1, 'a': 1, 'foo': 1, 'bar': 1})\n",
            "re.compile('\\\\w+')\n",
            "Cosine: 0.8616404368553293\n"
          ],
          "name": "stdout"
        }
      ]
    },
    {
      "cell_type": "code",
      "metadata": {
        "id": "0Juf49qyrOM8",
        "colab_type": "code",
        "colab": {}
      },
      "source": [
        "def cond(words):\n",
        "  txt = {}\n",
        "  for i in WORDS:\n",
        "    txt[get_cosine(text_to_vector(words) , text_to_vector(i) )* P(words, sum(WORDS.values()))] = i\n",
        "    return (max([int(s) for s in txt.keys()]))"
      ],
      "execution_count": 0,
      "outputs": []
    },
    {
      "cell_type": "code",
      "metadata": {
        "id": "2BHyqbIIghb7",
        "colab_type": "code",
        "colab": {}
      },
      "source": [
        "def P(word, N=sum(WORDS.values())): \n",
        "    \"Probability of `word`.\"\n",
        "    return WORDS[word] / N\n",
        "    print(N)"
      ],
      "execution_count": 0,
      "outputs": []
    },
    {
      "cell_type": "code",
      "metadata": {
        "id": "dELJn6ZcghcB",
        "colab_type": "code",
        "colab": {}
      },
      "source": [
        "def correction(word): \n",
        "    \"Most probable spelling correction for word.\"\n",
        "    return max(candidates(word), key=P)"
      ],
      "execution_count": 0,
      "outputs": []
    },
    {
      "cell_type": "code",
      "metadata": {
        "id": "z4lzBENcghcH",
        "colab_type": "code",
        "colab": {}
      },
      "source": [
        "def candidates(word): \n",
        "    \"Generate possible spelling corrections for word.\"\n",
        "    return (known([word]) or known(edits1(word)) or known(edits2(word)) or [word])"
      ],
      "execution_count": 0,
      "outputs": []
    },
    {
      "cell_type": "code",
      "metadata": {
        "id": "AfzAVvtXghcL",
        "colab_type": "code",
        "colab": {}
      },
      "source": [
        "\n",
        "def known(words): \n",
        "    \"The subset of `words` that appear in the dictionary of WORDS.\"\n",
        "    return set(w for w in words if w in WORDS)"
      ],
      "execution_count": 0,
      "outputs": []
    },
    {
      "cell_type": "code",
      "metadata": {
        "id": "BTbP_T3xghcT",
        "colab_type": "code",
        "colab": {}
      },
      "source": [
        "def edits1(word):\n",
        "    \"All edits that are one edit away from `word`.\"\n",
        "    letters    = 'йцукенгшщзхъфывапролджэячсмитьбюёqwertyuiopasdfghjklzxcvbnm'\n",
        "    splits     = [(word[:i], word[i:])    for i in range(len(word) + 1)]\n",
        "    deletes    = [L + R[1:]               for L, R in splits if R]\n",
        "    transposes = [L + R[1] + R[0] + R[2:] for L, R in splits if len(R)>1]\n",
        "    replaces   = [L + c + R[1:]           for L, R in splits if R for c in letters]\n",
        "    inserts    = [L + c + R               for L, R in splits for c in letters]\n",
        "    return set(deletes + transposes + replaces + inserts)"
      ],
      "execution_count": 0,
      "outputs": []
    },
    {
      "cell_type": "code",
      "metadata": {
        "id": "d4fj6U5nghcZ",
        "colab_type": "code",
        "colab": {}
      },
      "source": [
        "def edits2(word): \n",
        "    \"All edits that are two edits away from `word`.\"\n",
        "    return (e2 for e1 in edits1(word) for e2 in edits1(e1))"
      ],
      "execution_count": 0,
      "outputs": []
    },
    {
      "cell_type": "code",
      "metadata": {
        "id": "Zyzb5hC9ghce",
        "colab_type": "code",
        "outputId": "541ec03d-4aba-43dc-f3e4-14afdbb5b791",
        "colab": {
          "base_uri": "https://localhost:8080/",
          "height": 68
        }
      },
      "source": [
        "%%time\n",
        "print(correction('appleappleappleapple'))\n",
        "\n"
      ],
      "execution_count": 0,
      "outputs": [
        {
          "output_type": "stream",
          "text": [
            "appleappleappleapple\n",
            "CPU times: user 3.73 s, sys: 97.9 ms, total: 3.83 s\n",
            "Wall time: 3.83 s\n"
          ],
          "name": "stdout"
        }
      ]
    },
    {
      "cell_type": "code",
      "metadata": {
        "id": "s6oNpgiqnXgE",
        "colab_type": "code",
        "outputId": "a1ddfbec-165d-4e93-905c-70fbcfdfb46a",
        "colab": {
          "base_uri": "https://localhost:8080/",
          "height": 472
        }
      },
      "source": [
        "arr = [1.46/1000, 2.85 , 6.43]\n",
        "arr2 = []\n",
        "import matplotlib.pyplot as plt\n",
        "import seaborn as sns\n",
        "import numpy as np\n",
        "plt.rcdefaults()\n",
        "fig, ax = plt.subplots()\n",
        "people = ('сабвуферы' , 'сабвуферысабвуферы', 'сабвуферысабвуферысабвуферы')\n",
        "y_pos = np.arange(len(people))\n",
        "performance = (1.46/1000, 2.85 , 6.43)\n",
        "ax.barh(y_pos, performance, align='center')\n",
        "ax.set_yticks(y_pos)\n",
        "ax.set_yticklabels(people)\n",
        "ax.invert_yaxis()  # labels read top-to-bottom\n",
        "ax.set_xlabel('Seconds')\n",
        "ax.set_title('Disadvantages of Naive Bayes with Liv. alg.')\n",
        "        \n",
        "\n",
        "# plt.plot(arr2)\n",
        "# plt.plot(arr)\n",
        "# plt.\n",
        "# plt.title('Disadventage of Liv. distance algorithm')\n",
        "# plt.xlabel('Time')\n",
        "# plt.ylabel('Queries')\n",
        "# plt.legend(['Train', 'Test'], loc='upper left')\n",
        "# plt.savefig('Truncated_KASPI_Loss.png')\n",
        "plt.show()"
      ],
      "execution_count": 0,
      "outputs": [
        {
          "output_type": "display_data",
          "data": {
            "image/png": "[encoded data removed]",
            "text/plain": [
              "<Figure size 640x480 with 1 Axes>"
            ]
          },
          "metadata": {
            "tags": []
          }
        }
      ]
    },
    {
      "cell_type": "code",
      "metadata": {
        "id": "3sXwmxBceNDQ",
        "colab_type": "code",
        "outputId": "d8d39519-5c9c-4c65-ba96-bb242e88f57b",
        "colab": {
          "base_uri": "https://localhost:8080/",
          "height": 68
        }
      },
      "source": [
        "%%time\n",
        "text = 'buuy samsung glaxy'\n",
        "arr = text.split(\" \")\n",
        "donetext = ''\n",
        "for i in arr:\n",
        "  donetext = donetext + \" \" + correction(i)\n",
        "\n",
        "print(donetext)\n",
        "# s = segment('автозопчасти')\n",
        "# print_suggestions('aple' , c)"
      ],
      "execution_count": 0,
      "outputs": [
        {
          "output_type": "stream",
          "text": [
            " buy samsung galaxy\n",
            "CPU times: user 1.46 ms, sys: 930 µs, total: 2.39 ms\n",
            "Wall time: 2.27 ms\n"
          ],
          "name": "stdout"
        }
      ]
    },
    {
      "cell_type": "code",
      "metadata": {
        "id": "OnBa_IjO8oDO",
        "colab_type": "code",
        "outputId": "2dc3f95e-6eb4-4921-e8dd-281e2ee6deb9",
        "colab": {
          "base_uri": "https://localhost:8080/",
          "height": 68
        }
      },
      "source": [
        "%%time\n",
        "text =c\n",
        "arr = text.split(\" \")\n",
        "donetext = ''\n",
        "for i in arr:\n",
        "  donetext = donetext + \" \" + correction(i)\n",
        "\n",
        "print(donetext)\n",
        "# s = segment('автозопчасти')\n",
        "# print_suggestions('aple' , c)"
      ],
      "execution_count": 0,
      "outputs": [
        {
          "output_type": "stream",
          "text": [
            " холодильники сатып алу алматы\n",
            "CPU times: user 1.11 s, sys: 487 µs, total: 1.11 s\n",
            "Wall time: 1.11 s\n"
          ],
          "name": "stdout"
        }
      ]
    }
  ]
}